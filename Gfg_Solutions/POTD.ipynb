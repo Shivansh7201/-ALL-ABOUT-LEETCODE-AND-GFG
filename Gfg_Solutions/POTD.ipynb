{
 "cells": [
  {
   "cell_type": "markdown",
   "metadata": {},
   "source": [
    "### **Reorganize The Array**\n",
    "Input: arr[] = [-1, -1, 6, 1, 9, 3, 2, -1, 4, -1]\n",
    "Output: [-1, 1, 2, 3, 4, -1, 6, -1, -1, 9]\n",
    "Explanation: Here We can see there are 10 elements. So, the sorted array will look like [0, 1, 2, 3, 4, 5, 6, 7, 8, 9] but in our array we are not having 0, 5, 7 and 8. So, at there places we will be printing -1 and otherplaces will be having elements."
   ]
  },
  {
   "cell_type": "code",
   "execution_count": null,
   "metadata": {},
   "outputs": [],
   "source": [
    "class Solution:\n",
    "    def rearrange(self, arr):\n",
    "        result =[-1]*len(arr)\n",
    "        for value in arr:\n",
    "            if 0<=value<len(arr):\n",
    "                result[value]=value\n",
    "        return result\n",
    "        #Code here"
   ]
  },
  {
   "cell_type": "markdown",
   "metadata": {},
   "source": [
    "### **Two Smallests in Every Subarray**\n",
    "\n",
    "Given an array of integers arr, the task is to find and return the maximum sum of the smallest and second smallest element among all possible subarrays of size greater than one. If it is not possible, then return -1.\n"
   ]
  },
  {
   "cell_type": "code",
   "execution_count": null,
   "metadata": {},
   "outputs": [],
   "source": [
    "class Solution:\n",
    "    def pairWithMaxSum(self, arr):\n",
    "        n=len(arr)\n",
    "        ans=0\n",
    "        for i in range(1,n):\n",
    "            ans=max(ans,arr[i]+arr[i-1])\n",
    "        return ans if ans else -1     \n",
    "            \n",
    "        #code here\n",
    "\n",
    "\n",
    "#{ \n",
    " # Driver Code Starts\n",
    "if __name__ == \"__main__\":\n",
    "    import sys\n",
    "    input = sys.stdin.read\n",
    "    data = input().strip().split(\"\\n\")\n",
    "\n",
    "    t = int(data[0])\n",
    "    lines = data[1:]\n",
    "\n",
    "    for line in lines:\n",
    "        s = list(map(int, line.strip().split()))\n",
    "        solution = Solution()\n",
    "        res = solution.pairWithMaxSum(s)\n",
    "        print(res)\n",
    "\n",
    "# } Driver Code Ends"
   ]
  },
  {
   "cell_type": "markdown",
   "metadata": {},
   "source": [
    "### **Delete Alternate Nodes**\n",
    "\n",
    "Given a Singly Linked List, Delete all alternate nodes of the list ie delete all the nodes present in even positions.\n"
   ]
  },
  {
   "cell_type": "code",
   "execution_count": null,
   "metadata": {},
   "outputs": [],
   "source": [
    "class Node:\n",
    "    def __init__(self, data):\n",
    "        self.data = data\n",
    "        self.next = None\n",
    "\n",
    "class Solution:\n",
    "    def deleteAlt(self, head):\n",
    "        temp = head\n",
    "        \n",
    "        while temp and temp.next:\n",
    "            del_node = temp.next\n",
    "            temp.next = temp.next.next\n",
    "            temp = temp.next\n",
    "            del del_node"
   ]
  },
  {
   "cell_type": "markdown",
   "metadata": {},
   "source": [
    "### **Count Linked List Nodes**\n",
    "\n"
   ]
  },
  {
   "cell_type": "code",
   "execution_count": null,
   "metadata": {},
   "outputs": [],
   "source": [
    "#User function Template for python3\n",
    "\n",
    "\n",
    "'''\n",
    "#Linked list class\n",
    "class LinkedList:\n",
    "    def __init__(self):\n",
    "        self.head=None\n",
    "        self.tail=None\n",
    "        '''\n",
    "class Solution:\n",
    "    # Function to count nodes of a linked list.\n",
    "    def getCount(self, head):\n",
    "        count=0\n",
    "        while head!=None:\n",
    "            count=count+1\n",
    "            head=head.next\n",
    "        return count    \n",
    "        # code here\n",
    "\n",
    "        # code here\n"
   ]
  }
 ],
 "metadata": {
  "kernelspec": {
   "display_name": "Python 3",
   "language": "python",
   "name": "python3"
  },
  "language_info": {
   "codemirror_mode": {
    "name": "ipython",
    "version": 3
   },
   "file_extension": ".py",
   "mimetype": "text/x-python",
   "name": "python",
   "nbconvert_exporter": "python",
   "pygments_lexer": "ipython3",
   "version": "3.12.2"
  }
 },
 "nbformat": 4,
 "nbformat_minor": 2
}
