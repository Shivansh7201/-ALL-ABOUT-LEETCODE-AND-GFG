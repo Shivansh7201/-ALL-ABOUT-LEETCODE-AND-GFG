{
 "cells": [
  {
   "cell_type": "markdown",
   "metadata": {},
   "source": [
    "### **Reorganize The Array**\n",
    "Input: arr[] = [-1, -1, 6, 1, 9, 3, 2, -1, 4, -1]\n",
    "Output: [-1, 1, 2, 3, 4, -1, 6, -1, -1, 9]\n",
    "Explanation: Here We can see there are 10 elements. So, the sorted array will look like [0, 1, 2, 3, 4, 5, 6, 7, 8, 9] but in our array we are not having 0, 5, 7 and 8. So, at there places we will be printing -1 and otherplaces will be having elements."
   ]
  },
  {
   "cell_type": "code",
   "execution_count": null,
   "metadata": {},
   "outputs": [],
   "source": [
    "class Solution:\n",
    "    def rearrange(self, arr):\n",
    "        result =[-1]*len(arr)\n",
    "        for value in arr:\n",
    "            if 0<=value<len(arr):\n",
    "                result[value]=value\n",
    "        return result\n",
    "        #Code here"
   ]
  }
 ],
 "metadata": {
  "language_info": {
   "name": "python"
  }
 },
 "nbformat": 4,
 "nbformat_minor": 2
}
