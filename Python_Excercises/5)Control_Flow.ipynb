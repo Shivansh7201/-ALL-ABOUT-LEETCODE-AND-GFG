{
 "cells": [
  {
   "cell_type": "markdown",
   "metadata": {},
   "source": [
    "## **Control Flow**\n",
    "\n",
    "**1) Conditional Statements**    **2) Iterative Statements**  **3) Transfer Statements** "
   ]
  },
  {
   "cell_type": "code",
   "execution_count": 2,
   "metadata": {},
   "outputs": [
    {
     "name": "stdout",
     "output_type": "stream",
     "text": [
      "You order a Medium size pizza\n"
     ]
    }
   ],
   "source": [
    "Order_Pizza=int(input(\"Enter the No. of Order_Pizza\"))\n",
    "if Order_Pizza==0:\n",
    "    print(\"Please Enter the valid input\") \n",
    "elif Order_Pizza==1:\n",
    "    print(\"You order a normal size pizza\") \n",
    "elif Order_Pizza==2:\n",
    "    print(\"You order a Medium size pizza\")\n",
    "elif Order_Pizza==3:\n",
    "    print(\"You order a largest size pizza\")\n",
    "else:\n",
    "    print(\"I thinkyou your are here to just surffing our website\")    \n",
    "\n",
    "\n",
    "\n",
    "\n"
   ]
  }
 ],
 "metadata": {
  "kernelspec": {
   "display_name": "Python 3",
   "language": "python",
   "name": "python3"
  },
  "language_info": {
   "codemirror_mode": {
    "name": "ipython",
    "version": 3
   },
   "file_extension": ".py",
   "mimetype": "text/x-python",
   "name": "python",
   "nbconvert_exporter": "python",
   "pygments_lexer": "ipython3",
   "version": "3.12.2"
  }
 },
 "nbformat": 4,
 "nbformat_minor": 2
}
